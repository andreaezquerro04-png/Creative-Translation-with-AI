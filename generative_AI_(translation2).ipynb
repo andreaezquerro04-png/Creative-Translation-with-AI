{
  "nbformat": 4,
  "nbformat_minor": 0,
  "metadata": {
    "colab": {
      "provenance": []
    },
    "kernelspec": {
      "name": "python3",
      "display_name": "Python 3"
    },
    "language_info": {
      "name": "python"
    }
  },
  "cells": [
    {
      "cell_type": "code",
      "execution_count": 2,
      "metadata": {
        "colab": {
          "base_uri": "https://localhost:8080/",
          "height": 211
        },
        "id": "nMY3z8oxwZcd",
        "outputId": "df8347e0-b766-476c-c90a-96454b79d152"
      },
      "outputs": [
        {
          "output_type": "error",
          "ename": "FileNotFoundError",
          "evalue": "[Errno 2] No such file or directory: '/content/tu_nombre.ipynb'",
          "traceback": [
            "\u001b[0;31m---------------------------------------------------------------------------\u001b[0m",
            "\u001b[0;31mFileNotFoundError\u001b[0m                         Traceback (most recent call last)",
            "\u001b[0;32m/tmp/ipython-input-354111056.py\u001b[0m in \u001b[0;36m<cell line: 0>\u001b[0;34m()\u001b[0m\n\u001b[1;32m      1\u001b[0m \u001b[0;32mimport\u001b[0m \u001b[0mnbformat\u001b[0m\u001b[0;34m\u001b[0m\u001b[0;34m\u001b[0m\u001b[0m\n\u001b[1;32m      2\u001b[0m \u001b[0;34m\u001b[0m\u001b[0m\n\u001b[0;32m----> 3\u001b[0;31m \u001b[0;32mwith\u001b[0m \u001b[0mopen\u001b[0m\u001b[0;34m(\u001b[0m\u001b[0;34m'/content/tu_nombre.ipynb'\u001b[0m\u001b[0;34m,\u001b[0m \u001b[0;34m'r'\u001b[0m\u001b[0;34m,\u001b[0m \u001b[0mencoding\u001b[0m\u001b[0;34m=\u001b[0m\u001b[0;34m'utf-8'\u001b[0m\u001b[0;34m)\u001b[0m \u001b[0;32mas\u001b[0m \u001b[0mf\u001b[0m\u001b[0;34m:\u001b[0m\u001b[0;34m\u001b[0m\u001b[0;34m\u001b[0m\u001b[0m\n\u001b[0m\u001b[1;32m      4\u001b[0m     \u001b[0mnb\u001b[0m \u001b[0;34m=\u001b[0m \u001b[0mnbformat\u001b[0m\u001b[0;34m.\u001b[0m\u001b[0mread\u001b[0m\u001b[0;34m(\u001b[0m\u001b[0mf\u001b[0m\u001b[0;34m,\u001b[0m \u001b[0mas_version\u001b[0m\u001b[0;34m=\u001b[0m\u001b[0;36m4\u001b[0m\u001b[0;34m)\u001b[0m\u001b[0;34m\u001b[0m\u001b[0;34m\u001b[0m\u001b[0m\n\u001b[1;32m      5\u001b[0m \u001b[0;34m\u001b[0m\u001b[0m\n",
            "\u001b[0;31mFileNotFoundError\u001b[0m: [Errno 2] No such file or directory: '/content/tu_nombre.ipynb'"
          ]
        }
      ],
      "source": [
        "# to solve invaid notebook problem on github\n",
        "import nbformat\n",
        "\n",
        "with open('/content/generative AI (translation).ipynb', 'r', encoding='utf-8') as f:\n",
        "    nb = nbformat.read(f, as_version=4)\n",
        "\n",
        "# Elimina los metadatos que molestan\n",
        "for cell in nb['cells']:\n",
        "    if 'metadata' in cell and 'widgets' in cell['metadata']:\n",
        "        del cell['metadata']['widgets']\n",
        "\n",
        "with open('/content/generative AI (translation2).ipynb', 'w', encoding='utf-8') as f:\n",
        "    nbformat.write(nb, f)\n",
        "\n",
        "\n",
        "\n",
        "\n",
        "# 1. Install Hugging Face Transformers\n",
        "!pip install transformers sentencepiece\n",
        "\n",
        "# 2. Import libraries\n",
        "from transformers import MarianMTModel, MarianTokenizer, pipeline\n",
        "\n",
        "# --- Models ---\n",
        "def cargar_modelo(origen, destino):\n",
        "    # Avalaible models of Helsinki-NLP (translation)\n",
        "    model_name = f\"Helsinki-NLP/opus-mt-{origen}-{destino}\"\n",
        "    tokenizer = MarianTokenizer.from_pretrained(model_name)\n",
        "    model = MarianMTModel.from_pretrained(model_name)\n",
        "    return pipeline(\"translation\", model=model, tokenizer=tokenizer)\n",
        "\n",
        "# --- translate with style ---\n",
        "def traducir(texto, origen=\"es\", destino=\"en\", estilo=\"neutral\"):\n",
        "    traductor = cargar_modelo(origen, destino)\n",
        "    traduccion = traductor(texto, max_length=100)[0]['translation_text']\n",
        "\n",
        "    # Simple prompts to adapt to the style\n",
        "    if estilo == \"formal\":\n",
        "        traduccion = f\"Formally expressed: {traduccion}\"\n",
        "    elif estilo == \"coloquial\":\n",
        "        traduccion = f\"Casual tone: {traduccion}\"\n",
        "    elif estilo == \"literario\":\n",
        "        traduccion = f\"Poetic version: {traduccion}\"\n",
        "\n",
        "    return traduccion\n",
        "\n",
        "# --- Examples ---\n",
        "texto1 = \"Buenos días, ¿cómo estás?\"\n",
        "texto2 = \"Estoy muy cansado después de estudiar tanto.\"\n",
        "texto3 = \"La tecnología puede cambiar el futuro.\"\n",
        "\n",
        "print(\"Ejemplo 1:\", traducir(texto1, \"es\", \"en\", estilo=\"formal\"))\n",
        "print(\"Ejemplo 2:\", traducir(texto2, \"es\", \"fr\", estilo=\"coloquial\"))\n",
        "print(\"Ejemplo 3:\", traducir(texto3, \"es\", \"en\", estilo=\"literario\"))"
      ]
    }
  ]
}